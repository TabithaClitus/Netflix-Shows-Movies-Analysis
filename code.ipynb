{
 "cells": [
  {
   "cell_type": "markdown",
   "id": "d84bdd87",
   "metadata": {},
   "source": [
    "PART 1"
   ]
  },
  {
   "cell_type": "code",
   "execution_count": 2,
   "id": "57810527",
   "metadata": {},
   "outputs": [
    {
     "data": {
      "text/html": [
       "<div>\n",
       "<style scoped>\n",
       "    .dataframe tbody tr th:only-of-type {\n",
       "        vertical-align: middle;\n",
       "    }\n",
       "\n",
       "    .dataframe tbody tr th {\n",
       "        vertical-align: top;\n",
       "    }\n",
       "\n",
       "    .dataframe thead th {\n",
       "        text-align: right;\n",
       "    }\n",
       "</style>\n",
       "<table border=\"1\" class=\"dataframe\">\n",
       "  <thead>\n",
       "    <tr style=\"text-align: right;\">\n",
       "      <th></th>\n",
       "      <th>show_id</th>\n",
       "      <th>type</th>\n",
       "      <th>title</th>\n",
       "      <th>director</th>\n",
       "      <th>cast</th>\n",
       "      <th>country</th>\n",
       "      <th>date_added</th>\n",
       "      <th>release_year</th>\n",
       "      <th>rating</th>\n",
       "      <th>duration</th>\n",
       "      <th>listed_in</th>\n",
       "      <th>description</th>\n",
       "    </tr>\n",
       "  </thead>\n",
       "  <tbody>\n",
       "    <tr>\n",
       "      <th>0</th>\n",
       "      <td>s1</td>\n",
       "      <td>Movie</td>\n",
       "      <td>Dick Johnson Is Dead</td>\n",
       "      <td>Kirsten Johnson</td>\n",
       "      <td>NaN</td>\n",
       "      <td>United States</td>\n",
       "      <td>September 25, 2021</td>\n",
       "      <td>2020</td>\n",
       "      <td>PG-13</td>\n",
       "      <td>90 min</td>\n",
       "      <td>Documentaries</td>\n",
       "      <td>As her father nears the end of his life, filmm...</td>\n",
       "    </tr>\n",
       "    <tr>\n",
       "      <th>1</th>\n",
       "      <td>s2</td>\n",
       "      <td>TV Show</td>\n",
       "      <td>Blood &amp; Water</td>\n",
       "      <td>NaN</td>\n",
       "      <td>Ama Qamata, Khosi Ngema, Gail Mabalane, Thaban...</td>\n",
       "      <td>South Africa</td>\n",
       "      <td>September 24, 2021</td>\n",
       "      <td>2021</td>\n",
       "      <td>TV-MA</td>\n",
       "      <td>2 Seasons</td>\n",
       "      <td>International TV Shows, TV Dramas, TV Mysteries</td>\n",
       "      <td>After crossing paths at a party, a Cape Town t...</td>\n",
       "    </tr>\n",
       "    <tr>\n",
       "      <th>2</th>\n",
       "      <td>s3</td>\n",
       "      <td>TV Show</td>\n",
       "      <td>Ganglands</td>\n",
       "      <td>Julien Leclercq</td>\n",
       "      <td>Sami Bouajila, Tracy Gotoas, Samuel Jouy, Nabi...</td>\n",
       "      <td>NaN</td>\n",
       "      <td>September 24, 2021</td>\n",
       "      <td>2021</td>\n",
       "      <td>TV-MA</td>\n",
       "      <td>1 Season</td>\n",
       "      <td>Crime TV Shows, International TV Shows, TV Act...</td>\n",
       "      <td>To protect his family from a powerful drug lor...</td>\n",
       "    </tr>\n",
       "    <tr>\n",
       "      <th>3</th>\n",
       "      <td>s4</td>\n",
       "      <td>TV Show</td>\n",
       "      <td>Jailbirds New Orleans</td>\n",
       "      <td>NaN</td>\n",
       "      <td>NaN</td>\n",
       "      <td>NaN</td>\n",
       "      <td>September 24, 2021</td>\n",
       "      <td>2021</td>\n",
       "      <td>TV-MA</td>\n",
       "      <td>1 Season</td>\n",
       "      <td>Docuseries, Reality TV</td>\n",
       "      <td>Feuds, flirtations and toilet talk go down amo...</td>\n",
       "    </tr>\n",
       "    <tr>\n",
       "      <th>4</th>\n",
       "      <td>s5</td>\n",
       "      <td>TV Show</td>\n",
       "      <td>Kota Factory</td>\n",
       "      <td>NaN</td>\n",
       "      <td>Mayur More, Jitendra Kumar, Ranjan Raj, Alam K...</td>\n",
       "      <td>India</td>\n",
       "      <td>September 24, 2021</td>\n",
       "      <td>2021</td>\n",
       "      <td>TV-MA</td>\n",
       "      <td>2 Seasons</td>\n",
       "      <td>International TV Shows, Romantic TV Shows, TV ...</td>\n",
       "      <td>In a city of coaching centers known to train I...</td>\n",
       "    </tr>\n",
       "    <tr>\n",
       "      <th>5</th>\n",
       "      <td>s6</td>\n",
       "      <td>TV Show</td>\n",
       "      <td>Midnight Mass</td>\n",
       "      <td>Mike Flanagan</td>\n",
       "      <td>Kate Siegel, Zach Gilford, Hamish Linklater, H...</td>\n",
       "      <td>NaN</td>\n",
       "      <td>September 24, 2021</td>\n",
       "      <td>2021</td>\n",
       "      <td>TV-MA</td>\n",
       "      <td>1 Season</td>\n",
       "      <td>TV Dramas, TV Horror, TV Mysteries</td>\n",
       "      <td>The arrival of a charismatic young priest brin...</td>\n",
       "    </tr>\n",
       "    <tr>\n",
       "      <th>6</th>\n",
       "      <td>s7</td>\n",
       "      <td>Movie</td>\n",
       "      <td>My Little Pony: A New Generation</td>\n",
       "      <td>Robert Cullen, José Luis Ucha</td>\n",
       "      <td>Vanessa Hudgens, Kimiko Glenn, James Marsden, ...</td>\n",
       "      <td>NaN</td>\n",
       "      <td>September 24, 2021</td>\n",
       "      <td>2021</td>\n",
       "      <td>PG</td>\n",
       "      <td>91 min</td>\n",
       "      <td>Children &amp; Family Movies</td>\n",
       "      <td>Equestria's divided. But a bright-eyed hero be...</td>\n",
       "    </tr>\n",
       "    <tr>\n",
       "      <th>7</th>\n",
       "      <td>s8</td>\n",
       "      <td>Movie</td>\n",
       "      <td>Sankofa</td>\n",
       "      <td>Haile Gerima</td>\n",
       "      <td>Kofi Ghanaba, Oyafunmike Ogunlano, Alexandra D...</td>\n",
       "      <td>United States, Ghana, Burkina Faso, United Kin...</td>\n",
       "      <td>September 24, 2021</td>\n",
       "      <td>1993</td>\n",
       "      <td>TV-MA</td>\n",
       "      <td>125 min</td>\n",
       "      <td>Dramas, Independent Movies, International Movies</td>\n",
       "      <td>On a photo shoot in Ghana, an American model s...</td>\n",
       "    </tr>\n",
       "    <tr>\n",
       "      <th>8</th>\n",
       "      <td>s9</td>\n",
       "      <td>TV Show</td>\n",
       "      <td>The Great British Baking Show</td>\n",
       "      <td>Andy Devonshire</td>\n",
       "      <td>Mel Giedroyc, Sue Perkins, Mary Berry, Paul Ho...</td>\n",
       "      <td>United Kingdom</td>\n",
       "      <td>September 24, 2021</td>\n",
       "      <td>2021</td>\n",
       "      <td>TV-14</td>\n",
       "      <td>9 Seasons</td>\n",
       "      <td>British TV Shows, Reality TV</td>\n",
       "      <td>A talented batch of amateur bakers face off in...</td>\n",
       "    </tr>\n",
       "    <tr>\n",
       "      <th>9</th>\n",
       "      <td>s10</td>\n",
       "      <td>Movie</td>\n",
       "      <td>The Starling</td>\n",
       "      <td>Theodore Melfi</td>\n",
       "      <td>Melissa McCarthy, Chris O'Dowd, Kevin Kline, T...</td>\n",
       "      <td>United States</td>\n",
       "      <td>September 24, 2021</td>\n",
       "      <td>2021</td>\n",
       "      <td>PG-13</td>\n",
       "      <td>104 min</td>\n",
       "      <td>Comedies, Dramas</td>\n",
       "      <td>A woman adjusting to life after a loss contend...</td>\n",
       "    </tr>\n",
       "  </tbody>\n",
       "</table>\n",
       "</div>"
      ],
      "text/plain": [
       "  show_id     type                             title  \\\n",
       "0      s1    Movie              Dick Johnson Is Dead   \n",
       "1      s2  TV Show                     Blood & Water   \n",
       "2      s3  TV Show                         Ganglands   \n",
       "3      s4  TV Show             Jailbirds New Orleans   \n",
       "4      s5  TV Show                      Kota Factory   \n",
       "5      s6  TV Show                     Midnight Mass   \n",
       "6      s7    Movie  My Little Pony: A New Generation   \n",
       "7      s8    Movie                           Sankofa   \n",
       "8      s9  TV Show     The Great British Baking Show   \n",
       "9     s10    Movie                      The Starling   \n",
       "\n",
       "                        director  \\\n",
       "0                Kirsten Johnson   \n",
       "1                            NaN   \n",
       "2                Julien Leclercq   \n",
       "3                            NaN   \n",
       "4                            NaN   \n",
       "5                  Mike Flanagan   \n",
       "6  Robert Cullen, José Luis Ucha   \n",
       "7                   Haile Gerima   \n",
       "8                Andy Devonshire   \n",
       "9                 Theodore Melfi   \n",
       "\n",
       "                                                cast  \\\n",
       "0                                                NaN   \n",
       "1  Ama Qamata, Khosi Ngema, Gail Mabalane, Thaban...   \n",
       "2  Sami Bouajila, Tracy Gotoas, Samuel Jouy, Nabi...   \n",
       "3                                                NaN   \n",
       "4  Mayur More, Jitendra Kumar, Ranjan Raj, Alam K...   \n",
       "5  Kate Siegel, Zach Gilford, Hamish Linklater, H...   \n",
       "6  Vanessa Hudgens, Kimiko Glenn, James Marsden, ...   \n",
       "7  Kofi Ghanaba, Oyafunmike Ogunlano, Alexandra D...   \n",
       "8  Mel Giedroyc, Sue Perkins, Mary Berry, Paul Ho...   \n",
       "9  Melissa McCarthy, Chris O'Dowd, Kevin Kline, T...   \n",
       "\n",
       "                                             country          date_added  \\\n",
       "0                                      United States  September 25, 2021   \n",
       "1                                       South Africa  September 24, 2021   \n",
       "2                                                NaN  September 24, 2021   \n",
       "3                                                NaN  September 24, 2021   \n",
       "4                                              India  September 24, 2021   \n",
       "5                                                NaN  September 24, 2021   \n",
       "6                                                NaN  September 24, 2021   \n",
       "7  United States, Ghana, Burkina Faso, United Kin...  September 24, 2021   \n",
       "8                                     United Kingdom  September 24, 2021   \n",
       "9                                      United States  September 24, 2021   \n",
       "\n",
       "   release_year rating   duration  \\\n",
       "0          2020  PG-13     90 min   \n",
       "1          2021  TV-MA  2 Seasons   \n",
       "2          2021  TV-MA   1 Season   \n",
       "3          2021  TV-MA   1 Season   \n",
       "4          2021  TV-MA  2 Seasons   \n",
       "5          2021  TV-MA   1 Season   \n",
       "6          2021     PG     91 min   \n",
       "7          1993  TV-MA    125 min   \n",
       "8          2021  TV-14  9 Seasons   \n",
       "9          2021  PG-13    104 min   \n",
       "\n",
       "                                           listed_in  \\\n",
       "0                                      Documentaries   \n",
       "1    International TV Shows, TV Dramas, TV Mysteries   \n",
       "2  Crime TV Shows, International TV Shows, TV Act...   \n",
       "3                             Docuseries, Reality TV   \n",
       "4  International TV Shows, Romantic TV Shows, TV ...   \n",
       "5                 TV Dramas, TV Horror, TV Mysteries   \n",
       "6                           Children & Family Movies   \n",
       "7   Dramas, Independent Movies, International Movies   \n",
       "8                       British TV Shows, Reality TV   \n",
       "9                                   Comedies, Dramas   \n",
       "\n",
       "                                         description  \n",
       "0  As her father nears the end of his life, filmm...  \n",
       "1  After crossing paths at a party, a Cape Town t...  \n",
       "2  To protect his family from a powerful drug lor...  \n",
       "3  Feuds, flirtations and toilet talk go down amo...  \n",
       "4  In a city of coaching centers known to train I...  \n",
       "5  The arrival of a charismatic young priest brin...  \n",
       "6  Equestria's divided. But a bright-eyed hero be...  \n",
       "7  On a photo shoot in Ghana, an American model s...  \n",
       "8  A talented batch of amateur bakers face off in...  \n",
       "9  A woman adjusting to life after a loss contend...  "
      ]
     },
     "execution_count": 2,
     "metadata": {},
     "output_type": "execute_result"
    }
   ],
   "source": [
    "import pandas as pd \n",
    "df=pd.read_csv('netflix_titles.csv')\n",
    "df.head(10)"
   ]
  },
  {
   "cell_type": "code",
   "execution_count": 4,
   "id": "d28f3e00",
   "metadata": {},
   "outputs": [
    {
     "data": {
      "text/plain": [
       "(8807, 12)"
      ]
     },
     "execution_count": 4,
     "metadata": {},
     "output_type": "execute_result"
    }
   ],
   "source": [
    "df.shape"
   ]
  },
  {
   "cell_type": "code",
   "execution_count": 5,
   "id": "f834e3e8",
   "metadata": {},
   "outputs": [
    {
     "data": {
      "text/plain": [
       "Index(['show_id', 'type', 'title', 'director', 'cast', 'country', 'date_added',\n",
       "       'release_year', 'rating', 'duration', 'listed_in', 'description'],\n",
       "      dtype='object')"
      ]
     },
     "execution_count": 5,
     "metadata": {},
     "output_type": "execute_result"
    }
   ],
   "source": [
    "df.columns"
   ]
  },
  {
   "cell_type": "code",
   "execution_count": 6,
   "id": "f6e12ee4",
   "metadata": {},
   "outputs": [
    {
     "data": {
      "text/plain": [
       "show_id         object\n",
       "type            object\n",
       "title           object\n",
       "director        object\n",
       "cast            object\n",
       "country         object\n",
       "date_added      object\n",
       "release_year     int64\n",
       "rating          object\n",
       "duration        object\n",
       "listed_in       object\n",
       "description     object\n",
       "dtype: object"
      ]
     },
     "execution_count": 6,
     "metadata": {},
     "output_type": "execute_result"
    }
   ],
   "source": [
    "df.dtypes"
   ]
  },
  {
   "cell_type": "code",
   "execution_count": 7,
   "id": "70dcfcca",
   "metadata": {},
   "outputs": [
    {
     "data": {
      "text/plain": [
       "show_id            0\n",
       "type               0\n",
       "title              0\n",
       "director        2634\n",
       "cast             825\n",
       "country          831\n",
       "date_added        10\n",
       "release_year       0\n",
       "rating             4\n",
       "duration           3\n",
       "listed_in          0\n",
       "description        0\n",
       "dtype: int64"
      ]
     },
     "execution_count": 7,
     "metadata": {},
     "output_type": "execute_result"
    }
   ],
   "source": [
    "df.isnull().sum()"
   ]
  },
  {
   "cell_type": "code",
   "execution_count": 8,
   "id": "378ebb86",
   "metadata": {},
   "outputs": [
    {
     "data": {
      "text/plain": [
       "<bound method DataFrame.duplicated of      show_id     type                  title         director  \\\n",
       "0         s1    Movie   Dick Johnson Is Dead  Kirsten Johnson   \n",
       "1         s2  TV Show          Blood & Water              NaN   \n",
       "2         s3  TV Show              Ganglands  Julien Leclercq   \n",
       "3         s4  TV Show  Jailbirds New Orleans              NaN   \n",
       "4         s5  TV Show           Kota Factory              NaN   \n",
       "...      ...      ...                    ...              ...   \n",
       "8802   s8803    Movie                 Zodiac    David Fincher   \n",
       "8803   s8804  TV Show            Zombie Dumb              NaN   \n",
       "8804   s8805    Movie             Zombieland  Ruben Fleischer   \n",
       "8805   s8806    Movie                   Zoom     Peter Hewitt   \n",
       "8806   s8807    Movie                 Zubaan      Mozez Singh   \n",
       "\n",
       "                                                   cast        country  \\\n",
       "0                                                   NaN  United States   \n",
       "1     Ama Qamata, Khosi Ngema, Gail Mabalane, Thaban...   South Africa   \n",
       "2     Sami Bouajila, Tracy Gotoas, Samuel Jouy, Nabi...            NaN   \n",
       "3                                                   NaN            NaN   \n",
       "4     Mayur More, Jitendra Kumar, Ranjan Raj, Alam K...          India   \n",
       "...                                                 ...            ...   \n",
       "8802  Mark Ruffalo, Jake Gyllenhaal, Robert Downey J...  United States   \n",
       "8803                                                NaN            NaN   \n",
       "8804  Jesse Eisenberg, Woody Harrelson, Emma Stone, ...  United States   \n",
       "8805  Tim Allen, Courteney Cox, Chevy Chase, Kate Ma...  United States   \n",
       "8806  Vicky Kaushal, Sarah-Jane Dias, Raaghav Chanan...          India   \n",
       "\n",
       "              date_added  release_year rating   duration  \\\n",
       "0     September 25, 2021          2020  PG-13     90 min   \n",
       "1     September 24, 2021          2021  TV-MA  2 Seasons   \n",
       "2     September 24, 2021          2021  TV-MA   1 Season   \n",
       "3     September 24, 2021          2021  TV-MA   1 Season   \n",
       "4     September 24, 2021          2021  TV-MA  2 Seasons   \n",
       "...                  ...           ...    ...        ...   \n",
       "8802   November 20, 2019          2007      R    158 min   \n",
       "8803        July 1, 2019          2018  TV-Y7  2 Seasons   \n",
       "8804    November 1, 2019          2009      R     88 min   \n",
       "8805    January 11, 2020          2006     PG     88 min   \n",
       "8806       March 2, 2019          2015  TV-14    111 min   \n",
       "\n",
       "                                              listed_in  \\\n",
       "0                                         Documentaries   \n",
       "1       International TV Shows, TV Dramas, TV Mysteries   \n",
       "2     Crime TV Shows, International TV Shows, TV Act...   \n",
       "3                                Docuseries, Reality TV   \n",
       "4     International TV Shows, Romantic TV Shows, TV ...   \n",
       "...                                                 ...   \n",
       "8802                     Cult Movies, Dramas, Thrillers   \n",
       "8803             Kids' TV, Korean TV Shows, TV Comedies   \n",
       "8804                            Comedies, Horror Movies   \n",
       "8805                 Children & Family Movies, Comedies   \n",
       "8806     Dramas, International Movies, Music & Musicals   \n",
       "\n",
       "                                            description  \n",
       "0     As her father nears the end of his life, filmm...  \n",
       "1     After crossing paths at a party, a Cape Town t...  \n",
       "2     To protect his family from a powerful drug lor...  \n",
       "3     Feuds, flirtations and toilet talk go down amo...  \n",
       "4     In a city of coaching centers known to train I...  \n",
       "...                                                 ...  \n",
       "8802  A political cartoonist, a crime reporter and a...  \n",
       "8803  While living alone in a spooky town, a young g...  \n",
       "8804  Looking to survive in a world taken over by zo...  \n",
       "8805  Dragged from civilian life, a former superhero...  \n",
       "8806  A scrappy but poor boy worms his way into a ty...  \n",
       "\n",
       "[8807 rows x 12 columns]>"
      ]
     },
     "execution_count": 8,
     "metadata": {},
     "output_type": "execute_result"
    }
   ],
   "source": [
    "df.duplicated"
   ]
  },
  {
   "cell_type": "code",
   "execution_count": 11,
   "id": "bfcbde6b",
   "metadata": {},
   "outputs": [
    {
     "data": {
      "text/html": [
       "<div>\n",
       "<style scoped>\n",
       "    .dataframe tbody tr th:only-of-type {\n",
       "        vertical-align: middle;\n",
       "    }\n",
       "\n",
       "    .dataframe tbody tr th {\n",
       "        vertical-align: top;\n",
       "    }\n",
       "\n",
       "    .dataframe thead th {\n",
       "        text-align: right;\n",
       "    }\n",
       "</style>\n",
       "<table border=\"1\" class=\"dataframe\">\n",
       "  <thead>\n",
       "    <tr style=\"text-align: right;\">\n",
       "      <th></th>\n",
       "      <th>release_year</th>\n",
       "    </tr>\n",
       "  </thead>\n",
       "  <tbody>\n",
       "    <tr>\n",
       "      <th>count</th>\n",
       "      <td>8807.000000</td>\n",
       "    </tr>\n",
       "    <tr>\n",
       "      <th>mean</th>\n",
       "      <td>2014.180198</td>\n",
       "    </tr>\n",
       "    <tr>\n",
       "      <th>std</th>\n",
       "      <td>8.819312</td>\n",
       "    </tr>\n",
       "    <tr>\n",
       "      <th>min</th>\n",
       "      <td>1925.000000</td>\n",
       "    </tr>\n",
       "    <tr>\n",
       "      <th>25%</th>\n",
       "      <td>2013.000000</td>\n",
       "    </tr>\n",
       "    <tr>\n",
       "      <th>50%</th>\n",
       "      <td>2017.000000</td>\n",
       "    </tr>\n",
       "    <tr>\n",
       "      <th>75%</th>\n",
       "      <td>2019.000000</td>\n",
       "    </tr>\n",
       "    <tr>\n",
       "      <th>max</th>\n",
       "      <td>2021.000000</td>\n",
       "    </tr>\n",
       "  </tbody>\n",
       "</table>\n",
       "</div>"
      ],
      "text/plain": [
       "       release_year\n",
       "count   8807.000000\n",
       "mean    2014.180198\n",
       "std        8.819312\n",
       "min     1925.000000\n",
       "25%     2013.000000\n",
       "50%     2017.000000\n",
       "75%     2019.000000\n",
       "max     2021.000000"
      ]
     },
     "execution_count": 11,
     "metadata": {},
     "output_type": "execute_result"
    }
   ],
   "source": [
    "df.describe()"
   ]
  },
  {
   "cell_type": "code",
   "execution_count": 10,
   "id": "89e1e30c",
   "metadata": {},
   "outputs": [
    {
     "data": {
      "text/html": [
       "<div>\n",
       "<style scoped>\n",
       "    .dataframe tbody tr th:only-of-type {\n",
       "        vertical-align: middle;\n",
       "    }\n",
       "\n",
       "    .dataframe tbody tr th {\n",
       "        vertical-align: top;\n",
       "    }\n",
       "\n",
       "    .dataframe thead th {\n",
       "        text-align: right;\n",
       "    }\n",
       "</style>\n",
       "<table border=\"1\" class=\"dataframe\">\n",
       "  <thead>\n",
       "    <tr style=\"text-align: right;\">\n",
       "      <th></th>\n",
       "      <th>show_id</th>\n",
       "      <th>type</th>\n",
       "      <th>title</th>\n",
       "      <th>director</th>\n",
       "      <th>cast</th>\n",
       "      <th>country</th>\n",
       "      <th>date_added</th>\n",
       "      <th>rating</th>\n",
       "      <th>duration</th>\n",
       "      <th>listed_in</th>\n",
       "      <th>description</th>\n",
       "    </tr>\n",
       "  </thead>\n",
       "  <tbody>\n",
       "    <tr>\n",
       "      <th>count</th>\n",
       "      <td>8807</td>\n",
       "      <td>8807</td>\n",
       "      <td>8807</td>\n",
       "      <td>6173</td>\n",
       "      <td>7982</td>\n",
       "      <td>7976</td>\n",
       "      <td>8797</td>\n",
       "      <td>8803</td>\n",
       "      <td>8804</td>\n",
       "      <td>8807</td>\n",
       "      <td>8807</td>\n",
       "    </tr>\n",
       "    <tr>\n",
       "      <th>unique</th>\n",
       "      <td>8807</td>\n",
       "      <td>2</td>\n",
       "      <td>8807</td>\n",
       "      <td>4528</td>\n",
       "      <td>7692</td>\n",
       "      <td>748</td>\n",
       "      <td>1767</td>\n",
       "      <td>17</td>\n",
       "      <td>220</td>\n",
       "      <td>514</td>\n",
       "      <td>8775</td>\n",
       "    </tr>\n",
       "    <tr>\n",
       "      <th>top</th>\n",
       "      <td>s1</td>\n",
       "      <td>Movie</td>\n",
       "      <td>Dick Johnson Is Dead</td>\n",
       "      <td>Rajiv Chilaka</td>\n",
       "      <td>David Attenborough</td>\n",
       "      <td>United States</td>\n",
       "      <td>January 1, 2020</td>\n",
       "      <td>TV-MA</td>\n",
       "      <td>1 Season</td>\n",
       "      <td>Dramas, International Movies</td>\n",
       "      <td>Paranormal activity at a lush, abandoned prope...</td>\n",
       "    </tr>\n",
       "    <tr>\n",
       "      <th>freq</th>\n",
       "      <td>1</td>\n",
       "      <td>6131</td>\n",
       "      <td>1</td>\n",
       "      <td>19</td>\n",
       "      <td>19</td>\n",
       "      <td>2818</td>\n",
       "      <td>109</td>\n",
       "      <td>3207</td>\n",
       "      <td>1793</td>\n",
       "      <td>362</td>\n",
       "      <td>4</td>\n",
       "    </tr>\n",
       "  </tbody>\n",
       "</table>\n",
       "</div>"
      ],
      "text/plain": [
       "       show_id   type                 title       director  \\\n",
       "count     8807   8807                  8807           6173   \n",
       "unique    8807      2                  8807           4528   \n",
       "top         s1  Movie  Dick Johnson Is Dead  Rajiv Chilaka   \n",
       "freq         1   6131                     1             19   \n",
       "\n",
       "                      cast        country       date_added rating  duration  \\\n",
       "count                 7982           7976             8797   8803      8804   \n",
       "unique                7692            748             1767     17       220   \n",
       "top     David Attenborough  United States  January 1, 2020  TV-MA  1 Season   \n",
       "freq                    19           2818              109   3207      1793   \n",
       "\n",
       "                           listed_in  \\\n",
       "count                           8807   \n",
       "unique                           514   \n",
       "top     Dramas, International Movies   \n",
       "freq                             362   \n",
       "\n",
       "                                              description  \n",
       "count                                                8807  \n",
       "unique                                               8775  \n",
       "top     Paranormal activity at a lush, abandoned prope...  \n",
       "freq                                                    4  "
      ]
     },
     "execution_count": 10,
     "metadata": {},
     "output_type": "execute_result"
    }
   ],
   "source": [
    "df.describe(include='object')"
   ]
  },
  {
   "cell_type": "code",
   "execution_count": 14,
   "id": "db4da8fb",
   "metadata": {},
   "outputs": [
    {
     "name": "stdout",
     "output_type": "stream",
     "text": [
      "show_id         8807\n",
      "type               2\n",
      "title           8807\n",
      "director        4528\n",
      "cast            7692\n",
      "country          748\n",
      "date_added      1767\n",
      "release_year      74\n",
      "rating            17\n",
      "duration         220\n",
      "listed_in        514\n",
      "description     8775\n",
      "dtype: int64\n"
     ]
    }
   ],
   "source": [
    "unique=df.nunique()\n",
    "print(unique)"
   ]
  },
  {
   "cell_type": "code",
   "execution_count": 15,
   "id": "0a5eb774",
   "metadata": {},
   "outputs": [
    {
     "name": "stdout",
     "output_type": "stream",
     "text": [
      "United States\n"
     ]
    }
   ],
   "source": [
    "frequent= df['country'].mode()[0]\n",
    "print(frequent)\n"
   ]
  },
  {
   "cell_type": "code",
   "execution_count": 16,
   "id": "22f5f713",
   "metadata": {},
   "outputs": [
    {
     "name": "stdout",
     "output_type": "stream",
     "text": [
      "United States appears 2818\n"
     ]
    }
   ],
   "source": [
    "count = df['country'].value_counts().iloc[0]\n",
    "print(f\"{frequent} appears {count}\")\n"
   ]
  },
  {
   "cell_type": "markdown",
   "id": "fc7a37dc",
   "metadata": {},
   "source": [
    "PART 2\n"
   ]
  },
  {
   "cell_type": "code",
   "execution_count": 10,
   "id": "b2f50bf9",
   "metadata": {},
   "outputs": [
    {
     "data": {
      "image/png": "[encoded data removed]",
      "text/plain": [
       "<Figure size 600x400 with 1 Axes>"
      ]
     },
     "metadata": {},
     "output_type": "display_data"
    }
   ],
   "source": [
    "import pandas as pd \n",
    "import matplotlib.pyplot as plt\n",
    "df=pd.read_csv('netflix_titles.csv')\n",
    "count= df['type'].value_counts()\n",
    "plt.figure(figsize=(6,4))\n",
    "plt.bar\n",
    "plt.bar(count.index, count.values, color=['skyblue', 'pink'])\n",
    "plt.title('Count of Movies vs TV Shows')\n",
    "plt.xlabel('Type')\n",
    "plt.ylabel('Count')\n",
    "plt.show()\n"
   ]
  },
  {
   "cell_type": "code",
   "execution_count": 11,
   "id": "c2edf8ae",
   "metadata": {},
   "outputs": [
    {
     "name": "stdout",
     "output_type": "stream",
     "text": [
      "country\n",
      "United States     2818\n",
      "India              972\n",
      "United Kingdom     419\n",
      "Japan              245\n",
      "South Korea        199\n",
      "Canada             181\n",
      "Spain              145\n",
      "France             124\n",
      "Mexico             110\n",
      "Egypt              106\n",
      "Name: count, dtype: int64\n"
     ]
    }
   ],
   "source": [
    "top_countries = df['country'].value_counts().head(10)\n",
    "print(top_countries)\n"
   ]
  },
  {
   "cell_type": "code",
   "execution_count": null,
   "id": "cac50e85",
   "metadata": {},
   "outputs": [
    {
     "name": "stdout",
     "output_type": "stream",
     "text": [
      "listed_in\n",
      "International Movies        2752\n",
      "Dramas                      2427\n",
      "Comedies                    1674\n",
      "International TV Shows      1351\n",
      "Documentaries                869\n",
      "Action & Adventure           859\n",
      "TV Dramas                    763\n",
      "Independent Movies           756\n",
      "Children & Family Movies     641\n",
      "Romantic Movies              616\n",
      "Name: count, dtype: int64\n"
     ]
    }
   ],
   "source": [
    "top_genres = (df['listed_in'].str.split(', ').explode().value_counts().head(10))\n",
    "print(top_genres)\n"
   ]
  },
  {
   "cell_type": "code",
   "execution_count": 14,
   "id": "b5219e7a",
   "metadata": {},
   "outputs": [
    {
     "data": {
      "image/png": "[encoded data removed]",
      "text/plain": [
       "<Figure size 800x500 with 1 Axes>"
      ]
     },
     "metadata": {},
     "output_type": "display_data"
    }
   ],
   "source": [
    "import pandas as pd\n",
    "import matplotlib.pyplot as plt\n",
    "year_counts = df['release_year'].value_counts().sort_index()\n",
    "plt.figure(figsize=(8,5))\n",
    "plt.scatter(year_counts.index, year_counts.values, color='purple')\n",
    "plt.title('Release Year vs Count of Titles')\n",
    "plt.xlabel('Release Year')\n",
    "plt.ylabel('Number of Titles')\n",
    "plt.grid(True)\n",
    "plt.show()\n"
   ]
  },
  {
   "cell_type": "code",
   "execution_count": 15,
   "id": "eb18baff",
   "metadata": {},
   "outputs": [
    {
     "name": "stderr",
     "output_type": "stream",
     "text": [
      "C:\\Users\\91958\\AppData\\Local\\Temp\\ipykernel_21852\\3166010973.py:4: SettingWithCopyWarning: \n",
      "A value is trying to be set on a copy of a slice from a DataFrame.\n",
      "Try using .loc[row_indexer,col_indexer] = value instead\n",
      "\n",
      "See the caveats in the documentation: https://pandas.pydata.org/pandas-docs/stable/user_guide/indexing.html#returning-a-view-versus-a-copy\n",
      "  movies_df['duration'] = movies_df['duration'].str.replace(' min', '').astype(float)\n"
     ]
    },
    {
     "data": {
      "image/png": "[encoded data removed]",
      "text/plain": [
       "<Figure size 800x500 with 1 Axes>"
      ]
     },
     "metadata": {},
     "output_type": "display_data"
    }
   ],
   "source": [
    "import pandas as pd\n",
    "import matplotlib.pyplot as plt\n",
    "movies_df = df[df['type'] == 'Movie']\n",
    "movies_df['duration'] = movies_df['duration'].str.replace(' min', '').astype(float)\n",
    "plt.figure(figsize=(8,5))\n",
    "plt.hist(movies_df['duration'], bins=20, color='skyblue', edgecolor='black')\n",
    "plt.title('Distribution of Movie Durations')\n",
    "plt.xlabel('Duration')\n",
    "plt.ylabel('Movies')\n",
    "plt.grid(axis='y')\n",
    "plt.show()\n"
   ]
  },
  {
   "cell_type": "code",
   "execution_count": 2,
   "id": "2d23f67d",
   "metadata": {},
   "outputs": [
    {
     "data": {
      "image/png": "[encoded data removed]",
      "text/plain": [
       "<Figure size 800x500 with 1 Axes>"
      ]
     },
     "metadata": {},
     "output_type": "display_data"
    }
   ],
   "source": [
    "import pandas as pd\n",
    "import matplotlib.pyplot as plt\n",
    "df=pd.read_csv('netflix_titles.csv')\n",
    "df['date_added'] = pd.to_datetime(df['date_added'].str.strip(), errors='coerce')\n",
    "df['year_added'] = df['date_added'].dt.year\n",
    "titlesyear = df['year_added'].dropna().value_counts().sort_index()\n",
    "plt.figure(figsize=(8,5))\n",
    "titlesyear.plot(kind='bar', color='skyblue')\n",
    "plt.title('Number of Titles Added per Year')\n",
    "plt.xlabel('Year')\n",
    "plt.ylabel('Titles')\n",
    "plt.grid(axis='y')\n",
    "plt.show()\n"
   ]
  },
  {
   "cell_type": "code",
   "execution_count": 4,
   "id": "00ceac47",
   "metadata": {},
   "outputs": [
    {
     "name": "stdout",
     "output_type": "stream",
     "text": [
      "highest number of releases is 2018 with 1147 titles.\n"
     ]
    }
   ],
   "source": [
    "top_year = df['release_year'].value_counts().idxmax()\n",
    "highest= df['release_year'].value_counts().max()\n",
    "print(f\"highest number of releases is {top_year} with {highest} titles.\")"
   ]
  },
  {
   "cell_type": "markdown",
   "id": "3edf014e",
   "metadata": {},
   "source": [
    "PART 3"
   ]
  },
  {
   "cell_type": "code",
   "execution_count": 7,
   "id": "60e3549b",
   "metadata": {},
   "outputs": [
    {
     "name": "stdout",
     "output_type": "stream",
     "text": [
      "Mean: 2014.18\n",
      "Median: 2017.0\n",
      "Mode: 2018\n"
     ]
    }
   ],
   "source": [
    "mean= df['release_year'].mean()\n",
    "median = df['release_year'].median()\n",
    "mode = df['release_year'].mode()[0]\n",
    "print(f\"Mean: {mean:.2f}\")\n",
    "print(f\"Median: {median}\")\n",
    "print(f\"Mode: {mode}\")"
   ]
  },
  {
   "cell_type": "code",
   "execution_count": 9,
   "id": "bd2033c0",
   "metadata": {},
   "outputs": [
    {
     "name": "stdout",
     "output_type": "stream",
     "text": [
      "Variance: 77.78\n",
      "Standard Deviation: 8.82\n"
     ]
    }
   ],
   "source": [
    "variance= df['release_year'].var()\n",
    "stddev= df['release_year'].std()\n",
    "print(f\"Variance: {variance:.2f}\")\n",
    "print(f\"Standard Deviation: {stddev:.2f}\")"
   ]
  },
  {
   "cell_type": "code",
   "execution_count": 11,
   "id": "4c4e2f7f",
   "metadata": {},
   "outputs": [
    {
     "name": "stdout",
     "output_type": "stream",
     "text": [
      "Percentage: 93.45%\n"
     ]
    }
   ],
   "source": [
    "df['date_added'] = pd.to_datetime(df['date_added'].astype(str).str.strip(), errors='coerce')\n",
    "latest_year = df['date_added'].dt.year.max()\n",
    "last5years = df[df['date_added'].dt.year >= latest_year - 4]\n",
    "percentage = (len(last5years) / len(df)) * 100\n",
    "print(f\"Percentage: {percentage:.2f}%\")"
   ]
  },
  {
   "cell_type": "code",
   "execution_count": 12,
   "id": "09ffdfae",
   "metadata": {},
   "outputs": [
    {
     "name": "stdout",
     "output_type": "stream",
     "text": [
      "type\n",
      "Movie      TV-MA\n",
      "TV Show    TV-MA\n",
      "Name: rating, dtype: object\n"
     ]
    }
   ],
   "source": [
    "common = df.groupby('type')['rating'].agg(lambda x: x.mode()[0])\n",
    "print(common)"
   ]
  },
  {
   "cell_type": "markdown",
   "id": "13c1a59e",
   "metadata": {},
   "source": [
    "PART 4"
   ]
  },
  {
   "cell_type": "code",
   "execution_count": 3,
   "id": "8c9a1070",
   "metadata": {},
   "outputs": [
    {
     "name": "stdout",
     "output_type": "stream",
     "text": [
      "[2020 2021 2021 ... 2009 2006 2015]\n"
     ]
    }
   ],
   "source": [
    "import numpy as np\n",
    "import pandas as pd\n",
    "df=pd.read_csv('netflix_titles.csv')\n",
    "release_year = df['release_year'].to_numpy()\n",
    "print(release_year)\n"
   ]
  },
  {
   "cell_type": "code",
   "execution_count": 4,
   "id": "0172aae5",
   "metadata": {},
   "outputs": [
    {
     "name": "stdout",
     "output_type": "stream",
     "text": [
      "[1 0 0 ... 1 1 1]\n"
     ]
    }
   ],
   "source": [
    "is_movie= np.where(df['type'] == 'Movie', 1, 0)\n",
    "print(is_movie)\n"
   ]
  },
  {
   "cell_type": "code",
   "execution_count": null,
   "id": "c1437f6e",
   "metadata": {},
   "outputs": [
    {
     "name": "stdout",
     "output_type": "stream",
     "text": [
      "[2021 2021 2021 ... 2010 2007 2016]\n"
     ]
    }
   ],
   "source": [
    "result_array = release_year + is_movie\n",
    "print(result_array)"
   ]
  },
  {
   "cell_type": "code",
   "execution_count": 7,
   "id": "afda92c3",
   "metadata": {},
   "outputs": [
    {
     "name": "stdout",
     "output_type": "stream",
     "text": [
      "12342448\n"
     ]
    }
   ],
   "source": [
    "dot_product = np.dot(release_year, is_movie)\n",
    "print(dot_product)"
   ]
  },
  {
   "cell_type": "code",
   "execution_count": 11,
   "id": "248e72a3",
   "metadata": {},
   "outputs": [
    {
     "name": "stdout",
     "output_type": "stream",
     "text": [
      "[1212.4 1212.6 1212.6 ... 1205.8 1204.  1209.4]\n"
     ]
    }
   ],
   "source": [
    "feature_matrix = np.column_stack((release_year, is_movie))\n",
    "weights = np.array([0.6, 0.4])\n",
    "weighted_sum = feature_matrix.dot(weights)\n",
    "print(weighted_sum)"
   ]
  },
  {
   "cell_type": "code",
   "execution_count": 12,
   "id": "7350719d",
   "metadata": {},
   "outputs": [
    {
     "name": "stdout",
     "output_type": "stream",
     "text": [
      "[0.01068649 0.01069178 0.01069178 ... 0.01062829 0.01061242 0.01066003]\n"
     ]
    }
   ],
   "source": [
    "norm = np.linalg.norm(release_year)\n",
    "normalized= release_year / norm\n",
    "print(normalized)"
   ]
  },
  {
   "cell_type": "markdown",
   "id": "2c3d1cc0",
   "metadata": {},
   "source": [
    "PART 5"
   ]
  },
  {
   "cell_type": "code",
   "execution_count": 15,
   "id": "e107c467",
   "metadata": {},
   "outputs": [
    {
     "name": "stdout",
     "output_type": "stream",
     "text": [
      "   release_year  is_movie  derivative\n",
      "0          2020         1          21\n",
      "1          2021         0          21\n",
      "2          2021         0          21\n",
      "3          2021         0          21\n",
      "4          2021         0          21\n"
     ]
    }
   ],
   "source": [
    "df['is_movie'] = np.where(df['type'] == 'Movie', 1, 0)\n",
    "df['derivative'] = df['is_movie'] + (df['release_year'] - 2000)\n",
    "print(df[['release_year', 'is_movie', 'derivative']].head())"
   ]
  },
  {
   "cell_type": "markdown",
   "id": "402d43ac",
   "metadata": {},
   "source": [
    "PART 6"
   ]
  },
  {
   "cell_type": "code",
   "execution_count": 16,
   "id": "08a1c528",
   "metadata": {},
   "outputs": [
    {
     "name": "stdout",
     "output_type": "stream",
     "text": [
      "   release_year  content_age\n",
      "0          2020            5\n",
      "1          2021            4\n",
      "2          2021            4\n",
      "3          2021            4\n",
      "4          2021            4\n"
     ]
    }
   ],
   "source": [
    "df['content_age'] = 2025 - df['release_year']\n",
    "print(df[['release_year', 'content_age']].head())"
   ]
  },
  {
   "cell_type": "code",
   "execution_count": 17,
   "id": "fb861392",
   "metadata": {},
   "outputs": [
    {
     "name": "stdout",
     "output_type": "stream",
     "text": [
      "      type  is_movie\n",
      "0    Movie         1\n",
      "1  TV Show         0\n",
      "2  TV Show         0\n",
      "3  TV Show         0\n",
      "4  TV Show         0\n"
     ]
    }
   ],
   "source": [
    "df['is_movie'] = df['type'].apply(lambda x: 1 if x == 'Movie' else 0)\n",
    "print(df[['type', 'is_movie']].head())"
   ]
  },
  {
   "cell_type": "code",
   "execution_count": 18,
   "id": "9a1fa31d",
   "metadata": {},
   "outputs": [
    {
     "name": "stdout",
     "output_type": "stream",
     "text": [
      "   release_year  recent_release\n",
      "0          2020               1\n",
      "1          2021               1\n",
      "2          2021               1\n",
      "3          2021               1\n",
      "4          2021               1\n"
     ]
    }
   ],
   "source": [
    "df['recent_release'] = df['release_year'].apply(lambda x: 1 if x >= 2020 else 0)\n",
    "print(df[['release_year', 'recent_release']].head())"
   ]
  },
  {
   "cell_type": "code",
   "execution_count": 19,
   "id": "f8e6d7a1",
   "metadata": {},
   "outputs": [
    {
     "name": "stdout",
     "output_type": "stream",
     "text": [
      "                                           listed_in  num_genres\n",
      "0                                      Documentaries           1\n",
      "1    International TV Shows, TV Dramas, TV Mysteries           3\n",
      "2  Crime TV Shows, International TV Shows, TV Act...           3\n",
      "3                             Docuseries, Reality TV           2\n",
      "4  International TV Shows, Romantic TV Shows, TV ...           3\n"
     ]
    }
   ],
   "source": [
    "df['num_genres'] = df['listed_in'].apply(lambda x: len(x.split(',')) if isinstance(x, str) else 0)\n",
    "print(df[['listed_in', 'num_genres']].head())"
   ]
  },
  {
   "cell_type": "code",
   "execution_count": 20,
   "id": "828e0138",
   "metadata": {},
   "outputs": [
    {
     "name": "stdout",
     "output_type": "stream",
     "text": [
      "   release_year year_quartile\n",
      "0          2020            Q4\n",
      "1          2021            Q4\n",
      "2          2021            Q4\n",
      "3          2021            Q4\n",
      "4          2021            Q4\n"
     ]
    }
   ],
   "source": [
    "df['year_quartile'] = pd.qcut(df['release_year'], q=4, labels=['Q1', 'Q2', 'Q3', 'Q4'])\n",
    "print(df[['release_year', 'year_quartile']].head())"
   ]
  },
  {
   "cell_type": "markdown",
   "id": "5944890e",
   "metadata": {},
   "source": [
    "PART 7"
   ]
  },
  {
   "cell_type": "code",
   "execution_count": 21,
   "id": "4f63c64c",
   "metadata": {},
   "outputs": [
    {
     "name": "stdout",
     "output_type": "stream",
     "text": [
      "   show_id   type                             title  \\\n",
      "0       s1  Movie              Dick Johnson Is Dead   \n",
      "6       s7  Movie  My Little Pony: A New Generation   \n",
      "9      s10  Movie                      The Starling   \n",
      "12     s13  Movie                      Je Suis Karl   \n",
      "13     s14  Movie  Confessions of an Invisible Girl   \n",
      "\n",
      "                         director  \\\n",
      "0                 Kirsten Johnson   \n",
      "6   Robert Cullen, José Luis Ucha   \n",
      "9                  Theodore Melfi   \n",
      "12            Christian Schwochow   \n",
      "13                  Bruno Garotti   \n",
      "\n",
      "                                                 cast  \\\n",
      "0                                                 NaN   \n",
      "6   Vanessa Hudgens, Kimiko Glenn, James Marsden, ...   \n",
      "9   Melissa McCarthy, Chris O'Dowd, Kevin Kline, T...   \n",
      "12  Luna Wedler, Jannis Niewöhner, Milan Peschel, ...   \n",
      "13  Klara Castanho, Lucca Picon, Júlia Gomes, Marc...   \n",
      "\n",
      "                    country          date_added  release_year rating duration  \\\n",
      "0             United States  September 25, 2021          2020  PG-13   90 min   \n",
      "6                       NaN  September 24, 2021          2021     PG   91 min   \n",
      "9             United States  September 24, 2021          2021  PG-13  104 min   \n",
      "12  Germany, Czech Republic  September 23, 2021          2021  TV-MA  127 min   \n",
      "13                      NaN  September 22, 2021          2021  TV-PG   91 min   \n",
      "\n",
      "                             listed_in  \\\n",
      "0                        Documentaries   \n",
      "6             Children & Family Movies   \n",
      "9                     Comedies, Dramas   \n",
      "12        Dramas, International Movies   \n",
      "13  Children & Family Movies, Comedies   \n",
      "\n",
      "                                          description  is_movie  derivative  \\\n",
      "0   As her father nears the end of his life, filmm...         1          21   \n",
      "6   Equestria's divided. But a bright-eyed hero be...         1          22   \n",
      "9   A woman adjusting to life after a loss contend...         1          22   \n",
      "12  After most of her family is murdered in a terr...         1          22   \n",
      "13  When the clever but socially-awkward Tetê join...         1          22   \n",
      "\n",
      "    content_age  recent_release  num_genres year_quartile  \n",
      "0             5               1           1            Q4  \n",
      "6             4               1           1            Q4  \n",
      "9             4               1           2            Q4  \n",
      "12            4               1           2            Q4  \n",
      "13            4               1           2            Q4  \n"
     ]
    }
   ],
   "source": [
    "movies_2015 = df[(df['type'] == 'Movie') & (df['release_year'] > 2015)]\n",
    "print(movies_2015.head())\n"
   ]
  },
  {
   "cell_type": "code",
   "execution_count": 22,
   "id": "ade7d028",
   "metadata": {},
   "outputs": [
    {
     "name": "stdout",
     "output_type": "stream",
     "text": [
      "     show_id   type                            title                 director  \\\n",
      "1150   s1151  Movie  7 Yards: The Chris Norton Story            Jonathon Link   \n",
      "850     s851  Movie                         99 Songs  Vishwesh Krishnamoorthy   \n",
      "851     s852  Movie                 99 Songs (Tamil)                      NaN   \n",
      "852     s853  Movie                99 Songs (Telugu)                      NaN   \n",
      "404     s405  Movie    9to5: The Story of a Movement                      NaN   \n",
      "\n",
      "                                                   cast        country  \\\n",
      "1150                                       Chris Norton  United States   \n",
      "850   Ehan Bhat, Edilsy Vargas, Manisha Koirala, Lis...          India   \n",
      "851                                                 NaN            NaN   \n",
      "852                                                 NaN            NaN   \n",
      "404                                                 NaN            NaN   \n",
      "\n",
      "          date_added  release_year rating duration  \\\n",
      "1150  March 30, 2021          2021  TV-PG   93 min   \n",
      "850     May 21, 2021          2021  TV-14  131 min   \n",
      "851     May 21, 2021          2021  TV-14  131 min   \n",
      "852     May 21, 2021          2021  TV-14  131 min   \n",
      "404    July 22, 2021          2021  TV-MA   85 min   \n",
      "\n",
      "                                           listed_in  \\\n",
      "1150                                   Documentaries   \n",
      "850   Dramas, International Movies, Music & Musicals   \n",
      "851   Dramas, International Movies, Music & Musicals   \n",
      "852   Dramas, International Movies, Music & Musicals   \n",
      "404                                    Documentaries   \n",
      "\n",
      "                                            description  is_movie  derivative  \\\n",
      "1150  The true story of former college football play...         1          22   \n",
      "850   Challenged to compose 100 songs before he can ...         1          22   \n",
      "851   Challenged to compose 100 songs before he can ...         1          22   \n",
      "852   Challenged to compose 100 songs before he can ...         1          22   \n",
      "404   In this documentary, female office workers in ...         1          22   \n",
      "\n",
      "      content_age  recent_release  num_genres year_quartile  \n",
      "1150            4               1           1            Q4  \n",
      "850             4               1           3            Q4  \n",
      "851             4               1           3            Q4  \n",
      "852             4               1           3            Q4  \n",
      "404             4               1           1            Q4  \n"
     ]
    }
   ],
   "source": [
    "sorted_movies = df[df['type'] == 'Movie'].sort_values(by=['release_year', 'title'],ascending=[False, True])\n",
    "print(sorted_movies.head())"
   ]
  },
  {
   "cell_type": "code",
   "execution_count": 23,
   "id": "236a9b62",
   "metadata": {},
   "outputs": [
    {
     "name": "stdout",
     "output_type": "stream",
     "text": [
      "country\n",
      "United States     2818\n",
      "India              972\n",
      "United Kingdom     419\n",
      "Japan              245\n",
      "South Korea        199\n",
      "Name: count, dtype: int64\n"
     ]
    }
   ],
   "source": [
    "top_countries = df['country'].value_counts().head(5)\n",
    "print(top_countries)"
   ]
  },
  {
   "cell_type": "code",
   "execution_count": 24,
   "id": "746c2995",
   "metadata": {},
   "outputs": [
    {
     "name": "stdout",
     "output_type": "stream",
     "text": [
      "     show_id   type                                              title  \\\n",
      "27       s28  Movie                                          Grown Ups   \n",
      "48       s49  Movie                                       Training Day   \n",
      "51       s52  Movie  InuYasha the Movie 2: The Castle Beyond the Lo...   \n",
      "52       s53  Movie  InuYasha the Movie 3: Swords of an Honorable R...   \n",
      "53       s54  Movie    InuYasha the Movie 4: Fire on the Mystic Island   \n",
      "...      ...    ...                                                ...   \n",
      "8793   s8794  Movie                               Yours, Mine and Ours   \n",
      "8799   s8800  Movie                                              Zenda   \n",
      "8802   s8803  Movie                                             Zodiac   \n",
      "8804   s8805  Movie                                         Zombieland   \n",
      "8805   s8806  Movie                                               Zoom   \n",
      "\n",
      "               director                                               cast  \\\n",
      "27         Dennis Dugan  Adam Sandler, Kevin James, Chris Rock, David S...   \n",
      "48        Antoine Fuqua  Denzel Washington, Ethan Hawke, Scott Glenn, T...   \n",
      "51    Toshiya Shinohara  Kappei Yamaguchi, Satsuki Yukino, Mieko Harada...   \n",
      "52    Toshiya Shinohara  Kappei Yamaguchi, Satsuki Yukino, Koji Tsujita...   \n",
      "53    Toshiya Shinohara  Kappei Yamaguchi, Satsuki Yukino, Koji Tsujita...   \n",
      "...                 ...                                                ...   \n",
      "8793       Raja Gosnell  Dennis Quaid, Rene Russo, Sean Faris, Katija P...   \n",
      "8799     Avadhoot Gupte  Santosh Juvekar, Siddharth Chandekar, Sachit P...   \n",
      "8802      David Fincher  Mark Ruffalo, Jake Gyllenhaal, Robert Downey J...   \n",
      "8804    Ruben Fleischer  Jesse Eisenberg, Woody Harrelson, Emma Stone, ...   \n",
      "8805       Peter Hewitt  Tim Allen, Courteney Cox, Chevy Chase, Kate Ma...   \n",
      "\n",
      "            country          date_added  release_year rating duration  \\\n",
      "27    United States  September 20, 2021          2010  PG-13  103 min   \n",
      "48    United States  September 16, 2021          2001      R  122 min   \n",
      "51            Japan  September 15, 2021          2002  TV-14   99 min   \n",
      "52            Japan  September 15, 2021          2003  TV-14   99 min   \n",
      "53            Japan  September 15, 2021          2004  TV-PG   88 min   \n",
      "...             ...                 ...           ...    ...      ...   \n",
      "8793  United States   November 20, 2019          2005     PG   88 min   \n",
      "8799          India   February 15, 2018          2009  TV-14  120 min   \n",
      "8802  United States   November 20, 2019          2007      R  158 min   \n",
      "8804  United States    November 1, 2019          2009      R   88 min   \n",
      "8805  United States    January 11, 2020          2006     PG   88 min   \n",
      "\n",
      "                                              listed_in  \\\n",
      "27                                             Comedies   \n",
      "48                                    Dramas, Thrillers   \n",
      "51    Action & Adventure, Anime Features, Internatio...   \n",
      "52    Action & Adventure, Anime Features, Internatio...   \n",
      "53    Action & Adventure, Anime Features, Internatio...   \n",
      "...                                                 ...   \n",
      "8793                 Children & Family Movies, Comedies   \n",
      "8799                       Dramas, International Movies   \n",
      "8802                     Cult Movies, Dramas, Thrillers   \n",
      "8804                            Comedies, Horror Movies   \n",
      "8805                 Children & Family Movies, Comedies   \n",
      "\n",
      "                                            description  is_movie  derivative  \\\n",
      "27    Mourning the loss of their beloved junior high...         1          11   \n",
      "48    A rookie cop with one day to prove himself to ...         1           2   \n",
      "51    With their biggest foe seemingly defeated, Inu...         1           3   \n",
      "52    The Great Dog Demon beaqueathed one of the Thr...         1           4   \n",
      "53    Ai, a young half-demon who has escaped from Ho...         1           5   \n",
      "...                                                 ...       ...         ...   \n",
      "8793  When a father of eight and a mother of 10 prep...         1           6   \n",
      "8799  A change in the leadership of a political part...         1          10   \n",
      "8802  A political cartoonist, a crime reporter and a...         1           8   \n",
      "8804  Looking to survive in a world taken over by zo...         1          10   \n",
      "8805  Dragged from civilian life, a former superhero...         1           7   \n",
      "\n",
      "      content_age  recent_release  num_genres year_quartile  \n",
      "27             15               0           1            Q1  \n",
      "48             24               0           2            Q1  \n",
      "51             23               0           3            Q1  \n",
      "52             22               0           3            Q1  \n",
      "53             21               0           3            Q1  \n",
      "...           ...             ...         ...           ...  \n",
      "8793           20               0           2            Q1  \n",
      "8799           16               0           2            Q1  \n",
      "8802           18               0           3            Q1  \n",
      "8804           16               0           2            Q1  \n",
      "8805           19               0           2            Q1  \n",
      "\n",
      "[1004 rows x 18 columns]\n"
     ]
    }
   ],
   "source": [
    "titles= df[(df['release_year'] >= 2000) & (df['release_year'] <= 2010)]\n",
    "print(titles)"
   ]
  },
  {
   "cell_type": "code",
   "execution_count": 25,
   "id": "a2274b16",
   "metadata": {},
   "outputs": [
    {
     "name": "stdout",
     "output_type": "stream",
     "text": [
      "Number of titles: 3190\n"
     ]
    }
   ],
   "source": [
    "drama = df['listed_in'].str.contains('Drama', case=False, na=False).sum()\n",
    "print(\"Number of titles:\", drama)"
   ]
  },
  {
   "cell_type": "markdown",
   "id": "66356479",
   "metadata": {},
   "source": [
    "PART 8"
   ]
  },
  {
   "cell_type": "code",
   "execution_count": 26,
   "id": "c000918c",
   "metadata": {},
   "outputs": [
    {
     "name": "stdout",
     "output_type": "stream",
     "text": [
      "country with Netflix content is United States with 2818 titles.\n"
     ]
    }
   ],
   "source": [
    "country = df['country'].value_counts().idxmax()\n",
    "count = df['country'].value_counts().max()\n",
    "print(f\"country with Netflix content is {country} with {count} titles.\")\n"
   ]
  },
  {
   "cell_type": "code",
   "execution_count": 30,
   "id": "884c8b6e",
   "metadata": {},
   "outputs": [
    {
     "name": "stdout",
     "output_type": "stream",
     "text": [
      "Year: 2018\n"
     ]
    }
   ],
   "source": [
    "year_counts = df['release_year'].value_counts().sort_values(ascending=False)\n",
    "highest_year = year_counts.idxmax()\n",
    "print(f\"Year: {highest_year}\")\n",
    "\n"
   ]
  },
  {
   "cell_type": "code",
   "execution_count": 32,
   "id": "07485939",
   "metadata": {},
   "outputs": [
    {
     "name": "stdout",
     "output_type": "stream",
     "text": [
      "Movie: 6131\n"
     ]
    }
   ],
   "source": [
    "counts = df['type'].value_counts()\n",
    "most_frequent = counts.idxmax()\n",
    "most_frequent_count = counts.max()\n",
    "print(f\"{most_frequent}: {most_frequent_count}\")"
   ]
  },
  {
   "cell_type": "code",
   "execution_count": 34,
   "id": "ee5ada03",
   "metadata": {},
   "outputs": [
    {
     "name": "stdout",
     "output_type": "stream",
     "text": [
      "International Movies\n"
     ]
    }
   ],
   "source": [
    "genre_counts = df['listed_in'].dropna().str.split(',').explode().str.strip().value_counts()\n",
    "most_frequent_genre = genre_counts.idxmax()\n",
    "print(f\"{most_frequent_genre}\")"
   ]
  },
  {
   "cell_type": "markdown",
   "id": "28830026",
   "metadata": {},
   "source": [
    "EXTRA"
   ]
  },
  {
   "cell_type": "code",
   "execution_count": 1,
   "id": "6d7396e8",
   "metadata": {},
   "outputs": [
    {
     "name": "stdout",
     "output_type": "stream",
     "text": [
      "                                           listed_in            category\n",
      "0                                      Documentaries               Other\n",
      "1    International TV Shows, TV Dramas, TV Mysteries               Drama\n",
      "2  Crime TV Shows, International TV Shows, TV Act...  Action & Adventure\n",
      "3                             Docuseries, Reality TV               Other\n",
      "4  International TV Shows, Romantic TV Shows, TV ...               Other\n",
      "5                 TV Dramas, TV Horror, TV Mysteries              Horror\n",
      "6                           Children & Family Movies       Kids & Family\n",
      "7   Dramas, Independent Movies, International Movies               Drama\n",
      "8                       British TV Shows, Reality TV               Other\n",
      "9                                   Comedies, Dramas               Drama\n"
     ]
    }
   ],
   "source": [
    "import pandas as pd\n",
    "\n",
    "\n",
    "file_path = \"C:\\\\Users\\\\91958\\\\Downloads\\\\netflix_titles.csv\"\n",
    "\n",
    "df = pd.read_csv(file_path)\n",
    "def categorize_title(genres):\n",
    "    if pd.isna(genres):\n",
    "        return \"Other\"\n",
    "    genres_lower = genres.lower()\n",
    "    if \"kids\" in genres_lower or \"family\" in genres_lower:\n",
    "        return \"Kids & Family\"\n",
    "    elif \"comedy\" in genres_lower:\n",
    "        return \"Comedies\"\n",
    "    elif \"documentary\" in genres_lower:\n",
    "        return \"Documentaries\"\n",
    "    elif \"horror\" in genres_lower:\n",
    "        return \"Horror\"\n",
    "    elif \"drama\" in genres_lower:\n",
    "        return \"Drama\"\n",
    "    elif \"romance\" in genres_lower:\n",
    "        return \"Romance\"\n",
    "    elif \"action\" in genres_lower or \"adventure\" in genres_lower:\n",
    "        return \"Action & Adventure\"\n",
    "    elif \"thriller\" in genres_lower:\n",
    "        return \"Thriller\"\n",
    "    elif \"sci-fi\" in genres_lower or \"science fiction\" in genres_lower:\n",
    "        return \"Sci-Fi\"\n",
    "    else:\n",
    "        return \"Other\"\n",
    "df['category'] = df['listed_in'].apply(categorize_title)\n",
    "print(df[['listed_in', 'category']].head(10))\n"
   ]
  }
 ],
 "metadata": {
  "kernelspec": {
   "display_name": "venv",
   "language": "python",
   "name": "python3"
  },
  "language_info": {
   "codemirror_mode": {
    "name": "ipython",
    "version": 3
   },
   "file_extension": ".py",
   "mimetype": "text/x-python",
   "name": "python",
   "nbconvert_exporter": "python",
   "pygments_lexer": "ipython3",
   "version": "3.13.5"
  }
 },
 "nbformat": 4,
 "nbformat_minor": 5
}
